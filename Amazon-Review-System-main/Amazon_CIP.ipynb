{
 "cells": [
  {
   "cell_type": "code",
   "execution_count": 1,
   "metadata": {},
   "outputs": [],
   "source": [
    "import warnings\n",
    "warnings.filterwarnings(\"ignore\")"
   ]
  },
  {
   "cell_type": "code",
   "execution_count": 2,
   "metadata": {},
   "outputs": [],
   "source": [
    "import numpy as np\n",
    "import pandas as pd\n",
    "import matplotlib.pyplot as plt\n",
    "import seaborn as sns"
   ]
  },
  {
   "cell_type": "markdown",
   "metadata": {},
   "source": [
    "Data Collection"
   ]
  },
  {
   "cell_type": "code",
   "execution_count": 3,
   "metadata": {},
   "outputs": [],
   "source": [
    "path_name=\"C:\\\\Users\\\\Home\\\\CIP_Lab Related Works\\\\DataSet1\\\\Amazon_Product.csv\"\n",
    "df=pd.read_csv(path_name,encoding= 'unicode_escape')\n"
   ]
  },
  {
   "cell_type": "code",
   "execution_count": 4,
   "metadata": {},
   "outputs": [
    {
     "data": {
      "text/html": [
       "<div>\n",
       "<style scoped>\n",
       "    .dataframe tbody tr th:only-of-type {\n",
       "        vertical-align: middle;\n",
       "    }\n",
       "\n",
       "    .dataframe tbody tr th {\n",
       "        vertical-align: top;\n",
       "    }\n",
       "\n",
       "    .dataframe thead th {\n",
       "        text-align: right;\n",
       "    }\n",
       "</style>\n",
       "<table border=\"1\" class=\"dataframe\">\n",
       "  <thead>\n",
       "    <tr style=\"text-align: right;\">\n",
       "      <th></th>\n",
       "      <th>Product Name</th>\n",
       "      <th>Brand Name</th>\n",
       "      <th>Price</th>\n",
       "      <th>Rating</th>\n",
       "      <th>Reviews</th>\n",
       "      <th>Review Votes</th>\n",
       "    </tr>\n",
       "  </thead>\n",
       "  <tbody>\n",
       "    <tr>\n",
       "      <th>413838</th>\n",
       "      <td>Samsung Convoy U640 Phone for Verizon Wireless...</td>\n",
       "      <td>Samsung</td>\n",
       "      <td>79.95</td>\n",
       "      <td>3</td>\n",
       "      <td>I returned it because it did not meet my needs...</td>\n",
       "      <td>0.0</td>\n",
       "    </tr>\n",
       "    <tr>\n",
       "      <th>413839</th>\n",
       "      <td>Samsung Convoy U640 Phone for Verizon Wireless...</td>\n",
       "      <td>Samsung</td>\n",
       "      <td>79.95</td>\n",
       "      <td>4</td>\n",
       "      <td>Only downside is that apparently Verizon no lo...</td>\n",
       "      <td>0.0</td>\n",
       "    </tr>\n",
       "  </tbody>\n",
       "</table>\n",
       "</div>"
      ],
      "text/plain": [
       "                                             Product Name Brand Name  Price  \\\n",
       "413838  Samsung Convoy U640 Phone for Verizon Wireless...    Samsung  79.95   \n",
       "413839  Samsung Convoy U640 Phone for Verizon Wireless...    Samsung  79.95   \n",
       "\n",
       "        Rating                                            Reviews  \\\n",
       "413838       3  I returned it because it did not meet my needs...   \n",
       "413839       4  Only downside is that apparently Verizon no lo...   \n",
       "\n",
       "        Review Votes  \n",
       "413838           0.0  \n",
       "413839           0.0  "
      ]
     },
     "execution_count": 4,
     "metadata": {},
     "output_type": "execute_result"
    }
   ],
   "source": [
    "df.tail(2)"
   ]
  },
  {
   "cell_type": "markdown",
   "metadata": {},
   "source": [
    "Data Exploration"
   ]
  },
  {
   "cell_type": "code",
   "execution_count": 5,
   "metadata": {},
   "outputs": [
    {
     "data": {
      "text/plain": [
       "Index(['Product Name', 'Brand Name', 'Price', 'Rating', 'Reviews',\n",
       "       'Review Votes'],\n",
       "      dtype='object')"
      ]
     },
     "execution_count": 5,
     "metadata": {},
     "output_type": "execute_result"
    }
   ],
   "source": [
    "df.columns"
   ]
  },
  {
   "cell_type": "code",
   "execution_count": 6,
   "metadata": {},
   "outputs": [
    {
     "data": {
      "text/html": [
       "<div>\n",
       "<style scoped>\n",
       "    .dataframe tbody tr th:only-of-type {\n",
       "        vertical-align: middle;\n",
       "    }\n",
       "\n",
       "    .dataframe tbody tr th {\n",
       "        vertical-align: top;\n",
       "    }\n",
       "\n",
       "    .dataframe thead th {\n",
       "        text-align: right;\n",
       "    }\n",
       "</style>\n",
       "<table border=\"1\" class=\"dataframe\">\n",
       "  <thead>\n",
       "    <tr style=\"text-align: right;\">\n",
       "      <th></th>\n",
       "      <th>Price</th>\n",
       "      <th>Rating</th>\n",
       "      <th>Review Votes</th>\n",
       "    </tr>\n",
       "  </thead>\n",
       "  <tbody>\n",
       "    <tr>\n",
       "      <th>count</th>\n",
       "      <td>407907.000000</td>\n",
       "      <td>413840.000000</td>\n",
       "      <td>401544.000000</td>\n",
       "    </tr>\n",
       "    <tr>\n",
       "      <th>mean</th>\n",
       "      <td>226.867155</td>\n",
       "      <td>3.819578</td>\n",
       "      <td>1.507237</td>\n",
       "    </tr>\n",
       "    <tr>\n",
       "      <th>std</th>\n",
       "      <td>273.006259</td>\n",
       "      <td>1.548216</td>\n",
       "      <td>9.163853</td>\n",
       "    </tr>\n",
       "    <tr>\n",
       "      <th>min</th>\n",
       "      <td>1.730000</td>\n",
       "      <td>1.000000</td>\n",
       "      <td>0.000000</td>\n",
       "    </tr>\n",
       "    <tr>\n",
       "      <th>25%</th>\n",
       "      <td>79.990000</td>\n",
       "      <td>3.000000</td>\n",
       "      <td>0.000000</td>\n",
       "    </tr>\n",
       "    <tr>\n",
       "      <th>50%</th>\n",
       "      <td>144.710000</td>\n",
       "      <td>5.000000</td>\n",
       "      <td>0.000000</td>\n",
       "    </tr>\n",
       "    <tr>\n",
       "      <th>75%</th>\n",
       "      <td>269.990000</td>\n",
       "      <td>5.000000</td>\n",
       "      <td>1.000000</td>\n",
       "    </tr>\n",
       "    <tr>\n",
       "      <th>max</th>\n",
       "      <td>2598.000000</td>\n",
       "      <td>5.000000</td>\n",
       "      <td>645.000000</td>\n",
       "    </tr>\n",
       "  </tbody>\n",
       "</table>\n",
       "</div>"
      ],
      "text/plain": [
       "               Price         Rating   Review Votes\n",
       "count  407907.000000  413840.000000  401544.000000\n",
       "mean      226.867155       3.819578       1.507237\n",
       "std       273.006259       1.548216       9.163853\n",
       "min         1.730000       1.000000       0.000000\n",
       "25%        79.990000       3.000000       0.000000\n",
       "50%       144.710000       5.000000       0.000000\n",
       "75%       269.990000       5.000000       1.000000\n",
       "max      2598.000000       5.000000     645.000000"
      ]
     },
     "execution_count": 6,
     "metadata": {},
     "output_type": "execute_result"
    }
   ],
   "source": [
    "df.describe()"
   ]
  },
  {
   "cell_type": "markdown",
   "metadata": {},
   "source": [
    "Data Cleaning"
   ]
  },
  {
   "cell_type": "code",
   "execution_count": 7,
   "metadata": {},
   "outputs": [
    {
     "name": "stdout",
     "output_type": "stream",
     "text": [
      "<class 'pandas.core.frame.DataFrame'>\n",
      "RangeIndex: 413840 entries, 0 to 413839\n",
      "Data columns (total 6 columns):\n",
      " #   Column        Non-Null Count   Dtype  \n",
      "---  ------        --------------   -----  \n",
      " 0   Product Name  413840 non-null  object \n",
      " 1   Brand Name    348669 non-null  object \n",
      " 2   Price         407907 non-null  float64\n",
      " 3   Rating        413840 non-null  int64  \n",
      " 4   Reviews       413778 non-null  object \n",
      " 5   Review Votes  401544 non-null  float64\n",
      "dtypes: float64(2), int64(1), object(3)\n",
      "memory usage: 18.9+ MB\n"
     ]
    }
   ],
   "source": [
    "df.info()"
   ]
  },
  {
   "cell_type": "code",
   "execution_count": 8,
   "metadata": {},
   "outputs": [
    {
     "data": {
      "text/plain": [
       "(413840, 6)"
      ]
     },
     "execution_count": 8,
     "metadata": {},
     "output_type": "execute_result"
    }
   ],
   "source": [
    "df.shape"
   ]
  },
  {
   "cell_type": "code",
   "execution_count": 9,
   "metadata": {},
   "outputs": [],
   "source": [
    "#df['reviews.rating']=df['reviews.rating'].fillna(0)"
   ]
  },
  {
   "cell_type": "code",
   "execution_count": 10,
   "metadata": {},
   "outputs": [],
   "source": [
    "df.dropna(subset=[\"Rating\"] , inplace = True)"
   ]
  },
  {
   "cell_type": "code",
   "execution_count": 11,
   "metadata": {},
   "outputs": [
    {
     "data": {
      "text/plain": [
       "(413840, 6)"
      ]
     },
     "execution_count": 11,
     "metadata": {},
     "output_type": "execute_result"
    }
   ],
   "source": [
    "df.shape"
   ]
  },
  {
   "cell_type": "code",
   "execution_count": 12,
   "metadata": {},
   "outputs": [],
   "source": [
    "df[\"Rating\"] = df[\"Rating\"].astype(int)"
   ]
  },
  {
   "cell_type": "markdown",
   "metadata": {},
   "source": [
    "Data Visualization"
   ]
  },
  {
   "cell_type": "markdown",
   "metadata": {},
   "source": [
    "Training Model"
   ]
  },
  {
   "cell_type": "code",
   "execution_count": 13,
   "metadata": {},
   "outputs": [],
   "source": [
    "df=df[0:45000]"
   ]
  },
  {
   "cell_type": "code",
   "execution_count": 14,
   "metadata": {},
   "outputs": [],
   "source": [
    "from sklearn.model_selection import StratifiedShuffleSplit\n",
    "split = StratifiedShuffleSplit(n_splits=5, test_size=0.2)\n",
    "for train_index, test_index in split.split(df, df[\"Rating\"]): \n",
    "    strat_train = df.reindex(train_index)\n",
    "    strat_test = df.reindex(test_index)"
   ]
  },
  {
   "cell_type": "code",
   "execution_count": 15,
   "metadata": {},
   "outputs": [
    {
     "data": {
      "text/plain": [
       "36000"
      ]
     },
     "execution_count": 15,
     "metadata": {},
     "output_type": "execute_result"
    }
   ],
   "source": [
    "len(strat_train)"
   ]
  },
  {
   "cell_type": "code",
   "execution_count": 16,
   "metadata": {},
   "outputs": [
    {
     "data": {
      "text/plain": [
       "5    0.548667\n",
       "1    0.209556\n",
       "4    0.122694\n",
       "3    0.063361\n",
       "2    0.055722\n",
       "Name: Rating, dtype: float64"
      ]
     },
     "execution_count": 16,
     "metadata": {},
     "output_type": "execute_result"
    }
   ],
   "source": [
    "strat_train[\"Rating\"].value_counts()/len(strat_train)"
   ]
  },
  {
   "cell_type": "code",
   "execution_count": 17,
   "metadata": {},
   "outputs": [
    {
     "data": {
      "text/plain": [
       "9000"
      ]
     },
     "execution_count": 17,
     "metadata": {},
     "output_type": "execute_result"
    }
   ],
   "source": [
    "len(strat_test)"
   ]
  },
  {
   "cell_type": "code",
   "execution_count": 18,
   "metadata": {},
   "outputs": [
    {
     "data": {
      "text/plain": [
       "5    0.548667\n",
       "1    0.209556\n",
       "4    0.122667\n",
       "3    0.063444\n",
       "2    0.055667\n",
       "Name: Rating, dtype: float64"
      ]
     },
     "execution_count": 18,
     "metadata": {},
     "output_type": "execute_result"
    }
   ],
   "source": [
    "strat_test[\"Rating\"].value_counts()/len(strat_test)"
   ]
  },
  {
   "cell_type": "code",
   "execution_count": 19,
   "metadata": {},
   "outputs": [
    {
     "data": {
      "text/plain": [
       "3.7452"
      ]
     },
     "execution_count": 19,
     "metadata": {},
     "output_type": "execute_result"
    }
   ],
   "source": [
    "df[\"Rating\"].mean()"
   ]
  },
  {
   "cell_type": "code",
   "execution_count": 20,
   "metadata": {},
   "outputs": [
    {
     "data": {
      "text/plain": [
       "Index(['Product Name', 'Brand Name', 'Price', 'Rating', 'Reviews',\n",
       "       'Review Votes'],\n",
       "      dtype='object')"
      ]
     },
     "execution_count": 20,
     "metadata": {},
     "output_type": "execute_result"
    }
   ],
   "source": [
    "strat_train.columns"
   ]
  },
  {
   "cell_type": "code",
   "execution_count": 21,
   "metadata": {},
   "outputs": [
    {
     "data": {
      "text/plain": [
       "4509     Positive\n",
       "28941    Positive\n",
       "8090     Negative\n",
       "28316    Positive\n",
       "2459     Positive\n",
       "32739    Positive\n",
       "18631    Positive\n",
       "44873    Positive\n",
       "15763    Positive\n",
       "9010     Positive\n",
       "34721    Positive\n",
       "3017     Negative\n",
       "369      Negative\n",
       "25415    Negative\n",
       "22914    Positive\n",
       "22717    Positive\n",
       "44910    Positive\n",
       "2136     Positive\n",
       "4351     Positive\n",
       "22233    Positive\n",
       "Name: Rating, dtype: object"
      ]
     },
     "execution_count": 21,
     "metadata": {},
     "output_type": "execute_result"
    }
   ],
   "source": [
    "def sentiments(rating):\n",
    "    if (rating == 5) or (rating == 4):\n",
    "        return \"Positive\"\n",
    "    elif rating == 3:\n",
    "        return \"Neutral\"\n",
    "    elif (rating == 2) or (rating == 1):\n",
    "        return \"Negative\"\n",
    "# Add sentiments to the data\n",
    "strat_train[\"Rating\"] = strat_train[\"Rating\"].apply(sentiments)\n",
    "strat_test[\"Rating\"] = strat_test[\"Rating\"].apply(sentiments)\n",
    "strat_train[\"Rating\"][:20]"
   ]
  },
  {
   "cell_type": "code",
   "execution_count": null,
   "metadata": {},
   "outputs": [],
   "source": []
  },
  {
   "cell_type": "markdown",
   "metadata": {},
   "source": [
    "Training Testing Split Data"
   ]
  },
  {
   "cell_type": "code",
   "execution_count": 22,
   "metadata": {},
   "outputs": [
    {
     "name": "stdout",
     "output_type": "stream",
     "text": [
      "36000 9000\n",
      "36000 9000\n"
     ]
    }
   ],
   "source": [
    "X_train = strat_train[\"Reviews\"]\n",
    "X_train_targetSentiment = strat_train[\"Rating\"]\n",
    "X_test = strat_test[\"Reviews\"]\n",
    "X_test_targetSentiment = strat_test[\"Rating\"]\n",
    "print(len(X_train), len(X_test))\n",
    "print(len(X_train_targetSentiment), len(X_test_targetSentiment))"
   ]
  },
  {
   "cell_type": "code",
   "execution_count": 23,
   "metadata": {
    "scrolled": true
   },
   "outputs": [
    {
     "data": {
      "text/plain": [
       "4509     Positive\n",
       "28941    Positive\n",
       "8090     Negative\n",
       "28316    Positive\n",
       "2459     Positive\n",
       "           ...   \n",
       "3309     Positive\n",
       "39398    Negative\n",
       "26217    Positive\n",
       "22416    Negative\n",
       "6808     Positive\n",
       "Name: Rating, Length: 36000, dtype: object"
      ]
     },
     "execution_count": 23,
     "metadata": {},
     "output_type": "execute_result"
    }
   ],
   "source": [
    "strat_train[\"Rating\"]"
   ]
  },
  {
   "cell_type": "code",
   "execution_count": 24,
   "metadata": {},
   "outputs": [],
   "source": [
    "X_train = X_train.fillna(\"\")\n",
    "X_test = X_test.fillna(\"\")\n",
    "X_train_targetSentiment = X_train_targetSentiment.fillna(\"\")\n",
    "X_test_targetSentiment = X_test_targetSentiment.fillna(\"\")"
   ]
  },
  {
   "cell_type": "code",
   "execution_count": 25,
   "metadata": {},
   "outputs": [
    {
     "data": {
      "text/plain": [
       "4509                                           Love itð\n",
       "28941    The Good:This was brand new in a sealed box fr...\n",
       "Name: Reviews, dtype: object"
      ]
     },
     "execution_count": 25,
     "metadata": {},
     "output_type": "execute_result"
    }
   ],
   "source": [
    "X_train.head(2)\n"
   ]
  },
  {
   "cell_type": "code",
   "execution_count": 26,
   "metadata": {},
   "outputs": [
    {
     "data": {
      "text/plain": [
       "33889    Wouldn't hold a charge and wouldn't connect to...\n",
       "18458    My son is happy. I'm happy. Great replacement ...\n",
       "Name: Reviews, dtype: object"
      ]
     },
     "execution_count": 26,
     "metadata": {},
     "output_type": "execute_result"
    }
   ],
   "source": [
    "X_test.head(2)"
   ]
  },
  {
   "cell_type": "code",
   "execution_count": 27,
   "metadata": {},
   "outputs": [
    {
     "data": {
      "text/plain": [
       "4509     Positive\n",
       "28941    Positive\n",
       "Name: Rating, dtype: object"
      ]
     },
     "execution_count": 27,
     "metadata": {},
     "output_type": "execute_result"
    }
   ],
   "source": [
    "X_train_targetSentiment.head(2)"
   ]
  },
  {
   "cell_type": "code",
   "execution_count": 28,
   "metadata": {},
   "outputs": [
    {
     "data": {
      "text/plain": [
       "33889    Negative\n",
       "18458    Positive\n",
       "Name: Rating, dtype: object"
      ]
     },
     "execution_count": 28,
     "metadata": {},
     "output_type": "execute_result"
    }
   ],
   "source": [
    "X_test_targetSentiment.head(2)"
   ]
  },
  {
   "cell_type": "code",
   "execution_count": 29,
   "metadata": {},
   "outputs": [
    {
     "name": "stdout",
     "output_type": "stream",
     "text": [
      "36000 9000\n",
      "36000 9000\n"
     ]
    }
   ],
   "source": [
    "print(len(X_train), len(X_test))\n",
    "print(len(X_train_targetSentiment), len(X_test_targetSentiment))"
   ]
  },
  {
   "cell_type": "code",
   "execution_count": null,
   "metadata": {},
   "outputs": [],
   "source": []
  },
  {
   "cell_type": "markdown",
   "metadata": {},
   "source": [
    "Natural Language Processing"
   ]
  },
  {
   "cell_type": "code",
   "execution_count": 30,
   "metadata": {},
   "outputs": [],
   "source": [
    "from bs4 import BeautifulSoup\n",
    "import re\n",
    "import nltk\n",
    "from nltk.corpus import stopwords \n",
    "from nltk.stem.porter import PorterStemmer\n",
    "from sklearn.feature_extraction.text import CountVectorizer\n",
    "import nltk\n",
    "#nltk.download('stopwords')"
   ]
  },
  {
   "cell_type": "code",
   "execution_count": 31,
   "metadata": {},
   "outputs": [
    {
     "data": {
      "text/plain": [
       "['i',\n",
       " \"you've\",\n",
       " 'himself',\n",
       " 'they',\n",
       " 'that',\n",
       " 'been',\n",
       " 'a',\n",
       " 'while',\n",
       " 'through',\n",
       " 'in',\n",
       " 'here',\n",
       " 'few',\n",
       " 'same',\n",
       " 'don',\n",
       " 've',\n",
       " \"doesn't\",\n",
       " 'mightn',\n",
       " 'wasn']"
      ]
     },
     "execution_count": 31,
     "metadata": {},
     "output_type": "execute_result"
    }
   ],
   "source": [
    "\n",
    "stop_words = stopwords.words(\"english\")\n",
    "stop_words.remove(\"not\")\n",
    "stop_words[::10]"
   ]
  },
  {
   "cell_type": "code",
   "execution_count": 32,
   "metadata": {},
   "outputs": [],
   "source": [
    "\n",
    "def cleanText(raw_text, remove_stopwords=True, stemming=False, split_text=False, \\\n",
    "             ):\n",
    "\n",
    "    text = BeautifulSoup(raw_text, 'lxml').get_text()  \n",
    "    letters_only = re.sub(\"[^a-zA-Z]\", \" \", text)  \n",
    "    words = letters_only.lower().split()  \n",
    "    \n",
    "    if remove_stopwords: # remove stopword\n",
    "        stops = set(stopwords.words(\"english\"))\n",
    "        words = [w for w in words if not w in stops]\n",
    "        \n",
    "    if stemming==True: # stemming\n",
    "        stemmer = PorterStemmer()\n",
    "        #stemmer = SnowballStemmer('english') \n",
    "        words = [stemmer.stem(w) for w in words]\n",
    "        \n",
    "    if split_text==True:  # split text\n",
    "        return (words)\n",
    "    \n",
    "    return( \" \".join(words))"
   ]
  },
  {
   "cell_type": "code",
   "execution_count": 33,
   "metadata": {},
   "outputs": [
    {
     "name": "stdout",
     "output_type": "stream",
     "text": [
      "Show a cleaned review in the training set : \n",
      " good price good product\n"
     ]
    }
   ],
   "source": [
    "X_train_cleaned = []\n",
    "X_test_cleaned = []\n",
    "\n",
    "for d in X_train:\n",
    "    X_train_cleaned.append(cleanText(d))\n",
    "print('Show a cleaned review in the training set : \\n',  X_train_cleaned[10])\n",
    "    \n",
    "for d in X_test:\n",
    "    X_test_cleaned.append(cleanText(d))"
   ]
  },
  {
   "cell_type": "code",
   "execution_count": 34,
   "metadata": {},
   "outputs": [
    {
     "name": "stdout",
     "output_type": "stream",
     "text": [
      "['good', 'brand', 'new', 'sealed', 'box', 'vendor', 'bought', 'yes', 'unlocked', 'gsm', 'phone', 'actually', 'mobile', 'sim', 'popped', 'replaced', 'sim', 'card', 'iphone', 'problems', 'bad', 'gb', 'straight', 'enough', 'memory', 'iphone', 'days', 'photos', 'take', 'lot', 'space', 'text', 'messages', 'emails', 'really', 'able', 'use', 'ipod', 'time', 'ios', 'installed', 'gb', 'things', 'start', 'getting', 'cramped', 'seriously', 'iphone', 'go', 'settings', 'general', 'usage', 'manage', 'storage', 'see', 'large', 'apps', 'pandora', 'alone', 'like', 'kb', 'deleting', 'bunch', 'unused', 'stuff', 'kb', 'left', 'really', 'even', 'enough', 'update', 'ios', 'release', 'new', 'one', 'hook', 'thing', 'laptop', 'day', 'comes', 'yes', 'writing', 'review', 'obviously', 'works', 'short', 'live', 'limitations', 'buy', 'right', 'case', 'one', 'ever', 'even', 'know', 'cheapest', 'phone', 'apple', 'makes', 'guarantee', 'short', 'order', 'say', 'got', 'bg', 'one']\n"
     ]
    }
   ],
   "source": [
    "from nltk.tokenize import RegexpTokenizer\n",
    "def RegExpTokenizer(Sent):\n",
    "    tokenizer = RegexpTokenizer(r'\\w+')\n",
    "    return tokenizer.tokenize(Sent)\n",
    "\n",
    "ListWords =  [RegExpTokenizer(str(m)) for m in X_train_cleaned]\n",
    "print(ListWords[1])"
   ]
  },
  {
   "cell_type": "code",
   "execution_count": 35,
   "metadata": {},
   "outputs": [
    {
     "data": {
      "text/plain": [
       "'The Good:This was brand new in a sealed box from the vendor I bought it from.Yes this is an unlocked GSM phone.It actually had a T-mobile SIM in it which I popped out and replaced with my AT&T SIM card from my iPhone 5. No problems there.The bad:8GB is straight up not enough memory for an iPhone these days. Photos take up a lot of space as do text messages and emails (you won\\'t really be able to use it as an iPod). By the time the iOS is installed you\\'re down to 5-6GB then things start getting cramped. Seriously, if you have an iPhone go to Settings-General-Usage-Manage Storage and see how large these apps are. Pandora alone is like 150kb. So after deleting a bunch of unused stuff I have 800kb left. That\\'s really not even enough to update the iOS when they release a new one, so I will have to hook this thing to my laptop when that day comes (yes I\\'m writing this review in it, so it obviously works).In short: but it if you can live with the limitations. If you buy the right case no one will ever even know that it\\'s the cheapest phone Apple makes, but I guarantee you that in very short order you will say to yourself \"I should have got the 16BG one\".'"
      ]
     },
     "execution_count": 35,
     "metadata": {},
     "output_type": "execute_result"
    }
   ],
   "source": [
    "np.array(X_train)[1]"
   ]
  },
  {
   "cell_type": "code",
   "execution_count": 36,
   "metadata": {},
   "outputs": [
    {
     "data": {
      "text/plain": [
       "['good',\n",
       " 'brand',\n",
       " 'new',\n",
       " 'sealed',\n",
       " 'box',\n",
       " 'vendor',\n",
       " 'bought',\n",
       " 'yes',\n",
       " 'unlocked',\n",
       " 'gsm',\n",
       " 'phone',\n",
       " 'actually',\n",
       " 'mobile',\n",
       " 'sim',\n",
       " 'popped',\n",
       " 'replaced',\n",
       " 'sim',\n",
       " 'card',\n",
       " 'iphone',\n",
       " 'problems',\n",
       " 'bad',\n",
       " 'gb',\n",
       " 'straight',\n",
       " 'enough',\n",
       " 'memory',\n",
       " 'iphone',\n",
       " 'days',\n",
       " 'photos',\n",
       " 'take',\n",
       " 'lot',\n",
       " 'space',\n",
       " 'text',\n",
       " 'messages',\n",
       " 'emails',\n",
       " 'really',\n",
       " 'able',\n",
       " 'use',\n",
       " 'ipod',\n",
       " 'time',\n",
       " 'ios',\n",
       " 'installed',\n",
       " 'gb',\n",
       " 'things',\n",
       " 'start',\n",
       " 'getting',\n",
       " 'cramped',\n",
       " 'seriously',\n",
       " 'iphone',\n",
       " 'go',\n",
       " 'settings',\n",
       " 'general',\n",
       " 'usage',\n",
       " 'manage',\n",
       " 'storage',\n",
       " 'see',\n",
       " 'large',\n",
       " 'apps',\n",
       " 'pandora',\n",
       " 'alone',\n",
       " 'like',\n",
       " 'kb',\n",
       " 'deleting',\n",
       " 'bunch',\n",
       " 'unused',\n",
       " 'stuff',\n",
       " 'kb',\n",
       " 'left',\n",
       " 'really',\n",
       " 'even',\n",
       " 'enough',\n",
       " 'update',\n",
       " 'ios',\n",
       " 'release',\n",
       " 'new',\n",
       " 'one',\n",
       " 'hook',\n",
       " 'thing',\n",
       " 'laptop',\n",
       " 'day',\n",
       " 'comes',\n",
       " 'yes',\n",
       " 'writing',\n",
       " 'review',\n",
       " 'obviously',\n",
       " 'works',\n",
       " 'short',\n",
       " 'live',\n",
       " 'limitations',\n",
       " 'buy',\n",
       " 'right',\n",
       " 'case',\n",
       " 'one',\n",
       " 'ever',\n",
       " 'even',\n",
       " 'know',\n",
       " 'cheapest',\n",
       " 'phone',\n",
       " 'apple',\n",
       " 'makes',\n",
       " 'guarantee',\n",
       " 'short',\n",
       " 'order',\n",
       " 'say',\n",
       " 'got',\n",
       " 'bg',\n",
       " 'one']"
      ]
     },
     "execution_count": 36,
     "metadata": {},
     "output_type": "execute_result"
    }
   ],
   "source": [
    "ListWords[1]"
   ]
  },
  {
   "cell_type": "code",
   "execution_count": 37,
   "metadata": {},
   "outputs": [
    {
     "name": "stdout",
     "output_type": "stream",
     "text": [
      "Number of features : 12232 \n",
      "\n",
      "Show some feature names : \n",
      " ['aa', 'beaten', 'code', 'diego', 'fallas', 'hater', 'kolbi', 'naked', 'popes', 'responde', 'songs', 'toaaronnation', 'wirelss']\n"
     ]
    }
   ],
   "source": [
    "countVect = CountVectorizer() \n",
    "X_train_countVect = countVect.fit_transform(X_train_cleaned)\n",
    "print(\"Number of features : %d \\n\" %len(countVect.get_feature_names()))\n",
    "print(\"Show some feature names : \\n\", countVect.get_feature_names()[::1000])\n"
   ]
  },
  {
   "cell_type": "code",
   "execution_count": 38,
   "metadata": {},
   "outputs": [
    {
     "data": {
      "text/plain": [
       "<matplotlib.axes._subplots.AxesSubplot at 0x22c880ab88>"
      ]
     },
     "execution_count": 38,
     "metadata": {},
     "output_type": "execute_result"
    },
    {
     "data": {
      "image/png": "[encoded data removed]",
      "text/plain": [
       "<Figure size 432x288 with 1 Axes>"
      ]
     },
     "metadata": {
      "needs_background": "light"
     },
     "output_type": "display_data"
    }
   ],
   "source": [
    "most_freq_words = pd.DataFrame(countVect.vocabulary_.items(), columns=['word', 'frequency'])[:100].sort_values(ascending=False, by = \"frequency\")[:20]\n",
    "most_freq_words.plot.bar(x=\"word\", y=\"frequency\", rot=70, title=\"Most Frequent Words\")"
   ]
  },
  {
   "cell_type": "code",
   "execution_count": 39,
   "metadata": {},
   "outputs": [
    {
     "data": {
      "text/plain": [
       "<matplotlib.axes._subplots.AxesSubplot at 0x22caf05808>"
      ]
     },
     "execution_count": 39,
     "metadata": {},
     "output_type": "execute_result"
    },
    {
     "data": {
      "image/png": "[encoded data removed]",
      "text/plain": [
       "<Figure size 432x288 with 1 Axes>"
      ]
     },
     "metadata": {
      "needs_background": "light"
     },
     "output_type": "display_data"
    }
   ],
   "source": [
    "least_freq_words = pd.DataFrame(countVect.vocabulary_.items(), columns=['word', 'frequency'])[:100].sort_values(ascending=True, by = \"frequency\")[:20]\n",
    "least_freq_words.plot.bar(x=\"word\", y=\"frequency\", rot=70, title=\"Least Frequent Words\")"
   ]
  },
  {
   "cell_type": "code",
   "execution_count": 40,
   "metadata": {},
   "outputs": [
    {
     "data": {
      "text/plain": [
       "MultinomialNB(alpha=1.0, class_prior=None, fit_prior=True)"
      ]
     },
     "execution_count": 40,
     "metadata": {},
     "output_type": "execute_result"
    }
   ],
   "source": [
    "from sklearn.naive_bayes import MultinomialNB\n",
    "mnb = MultinomialNB()\n",
    "mnb.fit(X_train_countVect, X_train_targetSentiment)"
   ]
  },
  {
   "cell_type": "code",
   "execution_count": 41,
   "metadata": {
    "scrolled": true
   },
   "outputs": [
    {
     "data": {
      "text/plain": [
       "0.8934444444444445"
      ]
     },
     "execution_count": 41,
     "metadata": {},
     "output_type": "execute_result"
    }
   ],
   "source": [
    "from sklearn import metrics\n",
    "from sklearn.metrics import roc_auc_score, accuracy_score , classification_report\n",
    "predictions = mnb.predict(countVect.transform(X_test_cleaned))\n",
    "accuracy_score(X_test_targetSentiment, predictions)\n"
   ]
  },
  {
   "cell_type": "code",
   "execution_count": 42,
   "metadata": {
    "scrolled": true
   },
   "outputs": [
    {
     "name": "stdout",
     "output_type": "stream",
     "text": [
      "              precision    recall  f1-score   support\n",
      "\n",
      "    Negative       0.87      0.85      0.86      2387\n",
      "     Neutral       0.65      0.31      0.42       571\n",
      "    Positive       0.91      0.96      0.94      6042\n",
      "\n",
      "    accuracy                           0.89      9000\n",
      "   macro avg       0.81      0.71      0.74      9000\n",
      "weighted avg       0.88      0.89      0.88      9000\n",
      "\n"
     ]
    }
   ],
   "source": [
    "print(classification_report(X_test_targetSentiment, predictions))"
   ]
  },
  {
   "cell_type": "code",
   "execution_count": 43,
   "metadata": {},
   "outputs": [
    {
     "name": "stdout",
     "output_type": "stream",
     "text": [
      "\n",
      "Confusion Matrix : \n",
      " [[2040   51  296]\n",
      " [ 137  179  255]\n",
      " [ 174   46 5822]]\n"
     ]
    }
   ],
   "source": [
    "print(\"\\nConfusion Matrix : \\n\", metrics.confusion_matrix(X_test_targetSentiment, predictions))"
   ]
  },
  {
   "cell_type": "code",
   "execution_count": 44,
   "metadata": {},
   "outputs": [
    {
     "name": "stdout",
     "output_type": "stream",
     "text": [
      "Number of features : 4718 \n",
      "\n",
      "Show some feature names : \n",
      " ['ability', 'damaged', 'icons', 'pixel', 'strength']\n"
     ]
    }
   ],
   "source": [
    "from sklearn.feature_extraction.text import TfidfVectorizer\n",
    "tfidf = TfidfVectorizer(min_df=5) #minimum document frequency of 5\n",
    "X_train_tfidf = tfidf.fit_transform(X_train_cleaned)\n",
    "print(\"Number of features : %d \\n\" %len(tfidf.get_feature_names())) \n",
    "print(\"Show some feature names : \\n\", tfidf.get_feature_names()[::1000])"
   ]
  },
  {
   "cell_type": "code",
   "execution_count": 45,
   "metadata": {},
   "outputs": [
    {
     "data": {
      "text/plain": [
       "Pipeline(memory=None,\n",
       "         steps=[('vect',\n",
       "                 CountVectorizer(analyzer='word', binary=False,\n",
       "                                 decode_error='strict',\n",
       "                                 dtype=<class 'numpy.int64'>, encoding='utf-8',\n",
       "                                 input='content', lowercase=True, max_df=1.0,\n",
       "                                 max_features=None, min_df=1,\n",
       "                                 ngram_range=(1, 1), preprocessor=None,\n",
       "                                 stop_words=None, strip_accents=None,\n",
       "                                 token_pattern='(?u)\\\\b\\\\w\\\\w+\\\\b',\n",
       "                                 tokenizer=None, vocabulary=None)),\n",
       "                ('tfidf',\n",
       "                 TfidfTransformer(norm='l2', smooth_idf=True,\n",
       "                                  sublinear_tf=False, use_idf=True)),\n",
       "                ('clf_nominalNB',\n",
       "                 MultinomialNB(alpha=1.0, class_prior=None, fit_prior=True))],\n",
       "         verbose=False)"
      ]
     },
     "execution_count": 45,
     "metadata": {},
     "output_type": "execute_result"
    }
   ],
   "source": [
    "from sklearn.feature_extraction.text import TfidfTransformer\n",
    "from sklearn.naive_bayes import MultinomialNB\n",
    "from sklearn.pipeline import Pipeline\n",
    "clf_multiNB_pipe = Pipeline([(\"vect\", CountVectorizer()), (\"tfidf\", TfidfTransformer()), (\"clf_nominalNB\", MultinomialNB())])\n",
    "clf_multiNB_pipe.fit(X_train_cleaned[0:30000], X_train_targetSentiment[0:30000])"
   ]
  },
  {
   "cell_type": "code",
   "execution_count": 46,
   "metadata": {},
   "outputs": [
    {
     "data": {
      "text/plain": [
       "0.8704444444444445"
      ]
     },
     "execution_count": 46,
     "metadata": {},
     "output_type": "execute_result"
    }
   ],
   "source": [
    "import numpy as np\n",
    "predictedMultiNB = clf_multiNB_pipe.predict(X_test)\n",
    "np.mean(predictedMultiNB == X_test_targetSentiment)"
   ]
  },
  {
   "cell_type": "code",
   "execution_count": 47,
   "metadata": {},
   "outputs": [
    {
     "data": {
      "text/plain": [
       "<matplotlib.axes._subplots.AxesSubplot at 0x22cb5b5408>"
      ]
     },
     "execution_count": 47,
     "metadata": {},
     "output_type": "execute_result"
    },
    {
     "data": {
      "image/png": "[encoded data removed]",
      "text/plain": [
       "<Figure size 432x288 with 1 Axes>"
      ]
     },
     "metadata": {
      "needs_background": "light"
     },
     "output_type": "display_data"
    }
   ],
   "source": [
    "most_freq_words = pd.DataFrame(tfidf.vocabulary_.items(), columns=['word', 'frequency'])[:100].sort_values(ascending=False, by = \"frequency\")[:20]\n",
    "most_freq_words.plot.bar(x=\"word\", y=\"frequency\", rot=70, title=\"Most Frequent Words\")"
   ]
  },
  {
   "cell_type": "code",
   "execution_count": 48,
   "metadata": {},
   "outputs": [
    {
     "data": {
      "text/plain": [
       "<matplotlib.axes._subplots.AxesSubplot at 0x22cb339548>"
      ]
     },
     "execution_count": 48,
     "metadata": {},
     "output_type": "execute_result"
    },
    {
     "data": {
      "image/png": "[encoded data removed]",
      "text/plain": [
       "<Figure size 432x288 with 1 Axes>"
      ]
     },
     "metadata": {
      "needs_background": "light"
     },
     "output_type": "display_data"
    }
   ],
   "source": [
    "least_freq_words = pd.DataFrame(countVect.vocabulary_.items(), columns=['word', 'frequency'])[:100].sort_values(ascending=True, by = \"frequency\")[:20]\n",
    "least_freq_words.plot.bar(x=\"word\", y=\"frequency\", rot=70, title=\"Least Frequent Words\")"
   ]
  },
  {
   "cell_type": "code",
   "execution_count": 49,
   "metadata": {},
   "outputs": [
    {
     "data": {
      "text/plain": [
       "Pipeline(memory=None,\n",
       "         steps=[('vect',\n",
       "                 CountVectorizer(analyzer='word', binary=False,\n",
       "                                 decode_error='strict',\n",
       "                                 dtype=<class 'numpy.int64'>, encoding='utf-8',\n",
       "                                 input='content', lowercase=True, max_df=1.0,\n",
       "                                 max_features=None, min_df=1,\n",
       "                                 ngram_range=(1, 1), preprocessor=None,\n",
       "                                 stop_words=None, strip_accents=None,\n",
       "                                 token_pattern='(?u)\\\\b\\\\w\\\\w+\\\\b',\n",
       "                                 tokenizer=None, vocabulary=Non...\n",
       "                ('tfidf',\n",
       "                 TfidfTransformer(norm='l2', smooth_idf=True,\n",
       "                                  sublinear_tf=False, use_idf=True)),\n",
       "                ('clf_logReg',\n",
       "                 LogisticRegression(C=1.0, class_weight=None, dual=False,\n",
       "                                    fit_intercept=True, intercept_scaling=1,\n",
       "                                    l1_ratio=None, max_iter=100,\n",
       "                                    multi_class='auto', n_jobs=None,\n",
       "                                    penalty='l2', random_state=None,\n",
       "                                    solver='lbfgs', tol=0.0001, verbose=0,\n",
       "                                    warm_start=False))],\n",
       "         verbose=False)"
      ]
     },
     "execution_count": 49,
     "metadata": {},
     "output_type": "execute_result"
    }
   ],
   "source": [
    "from sklearn.linear_model import LogisticRegression\n",
    "from sklearn.pipeline import Pipeline\n",
    "clf_logReg_pipe = Pipeline([(\"vect\", CountVectorizer()), (\"tfidf\", TfidfTransformer()), (\"clf_logReg\", LogisticRegression())])\n",
    "clf_logReg_pipe.fit(X_train_cleaned, X_train_targetSentiment)\n",
    "\n"
   ]
  },
  {
   "cell_type": "code",
   "execution_count": 50,
   "metadata": {},
   "outputs": [
    {
     "data": {
      "text/plain": [
       "0.912"
      ]
     },
     "execution_count": 50,
     "metadata": {},
     "output_type": "execute_result"
    }
   ],
   "source": [
    "import numpy as np\n",
    "predictedLogReg = clf_logReg_pipe.predict(X_test)\n",
    "np.mean(predictedLogReg == X_test_targetSentiment)"
   ]
  },
  {
   "cell_type": "code",
   "execution_count": 51,
   "metadata": {},
   "outputs": [
    {
     "data": {
      "text/plain": [
       "array(['Negative'], dtype=object)"
      ]
     },
     "execution_count": 51,
     "metadata": {},
     "output_type": "execute_result"
    }
   ],
   "source": [
    "test=[\"Bad\"]\n",
    "clf_logReg_pipe.predict(test)"
   ]
  },
  {
   "cell_type": "code",
   "execution_count": 52,
   "metadata": {},
   "outputs": [],
   "source": [
    "from wordcloud import STOPWORDS\n",
    "\n",
    "from sklearn.feature_extraction.text import TfidfTransformer\n",
    "from sklearn.feature_extraction.text import CountVectorizer\n",
    "stopwords = set(STOPWORDS)\n",
    "stopwords.remove(\"not\")\n",
    "\n",
    "count_vect = CountVectorizer(min_df=2 ,stop_words=stopwords , ngram_range=(1,2))\n",
    "tfidf_transformer = TfidfTransformer()\n",
    "\n",
    "df_cv = count_vect.fit_transform(X_train)        \n",
    "\n",
    "df_tf = tfidf_transformer.fit_transform(df_cv)"
   ]
  },
  {
   "cell_type": "code",
   "execution_count": 53,
   "metadata": {},
   "outputs": [
    {
     "data": {
      "text/plain": [
       "array(['Positive', 'Negative', 'Neutral'], dtype=object)"
      ]
     },
     "execution_count": 53,
     "metadata": {},
     "output_type": "execute_result"
    }
   ],
   "source": [
    "X_train_targetSentiment.unique()"
   ]
  },
  {
   "cell_type": "code",
   "execution_count": 54,
   "metadata": {
    "scrolled": true
   },
   "outputs": [
    {
     "name": "stdout",
     "output_type": "stream",
     "text": [
      "(22500, 1363) (22500, 3)\n",
      "(7500, 1363) (7500, 3)\n",
      "WARNING:tensorflow:From E:\\anaconda3\\lib\\site-packages\\tensorflow\\python\\keras\\initializers.py:119: calling RandomUniform.__init__ (from tensorflow.python.ops.init_ops) with dtype is deprecated and will be removed in a future version.\n",
      "Instructions for updating:\n",
      "Call initializer instance with the dtype argument instead of passing it to the constructor\n",
      "WARNING:tensorflow:From E:\\anaconda3\\lib\\site-packages\\tensorflow\\python\\ops\\init_ops.py:1251: calling VarianceScaling.__init__ (from tensorflow.python.ops.init_ops) with dtype is deprecated and will be removed in a future version.\n",
      "Instructions for updating:\n",
      "Call initializer instance with the dtype argument instead of passing it to the constructor\n",
      "Model: \"sequential\"\n",
      "_________________________________________________________________\n",
      "Layer (type)                 Output Shape              Param #   \n",
      "=================================================================\n",
      "embedding (Embedding)        (None, 1363, 150)         4500000   \n",
      "_________________________________________________________________\n",
      "lstm (LSTM)                  (None, 32)                23424     \n",
      "_________________________________________________________________\n",
      "dense (Dense)                (None, 3)                 99        \n",
      "=================================================================\n",
      "Total params: 4,523,523\n",
      "Trainable params: 4,523,523\n",
      "Non-trainable params: 0\n",
      "_________________________________________________________________\n",
      "None\n"
     ]
    }
   ],
   "source": [
    "from sklearn.feature_extraction.text import CountVectorizer\n",
    "from tensorflow.keras.preprocessing.text import Tokenizer\n",
    "from tensorflow.keras.preprocessing.sequence import pad_sequences\n",
    "from tensorflow.keras.models import Sequential\n",
    "from tensorflow.keras.layers import Dense, Embedding, LSTM\n",
    "from sklearn.model_selection import train_test_split\n",
    "from tensorflow.keras.utils import to_categorical\n",
    "import re\n",
    "\n",
    "max_fatures = 30000\n",
    "tokenizer = Tokenizer(nb_words=max_fatures, split=' ')\n",
    "tokenizer.fit_on_texts(X_train.values)\n",
    "X1 = tokenizer.texts_to_sequences(X_train.values)\n",
    "X1 = pad_sequences(X1[:30000])\n",
    "\n",
    "Y1 = pd.get_dummies(X_train_targetSentiment[:30000]).values\n",
    "X1_train, X1_test, Y1_train, Y1_test = train_test_split(X1,Y1, random_state = 42)\n",
    "print(X1_train.shape,Y1_train.shape)\n",
    "print(X1_test.shape,Y1_test.shape)\n",
    "\n",
    "embed_dim = 150\n",
    "lstm_out = 32#200\n",
    "\n",
    "model = Sequential()\n",
    "model.add(Embedding(max_fatures, embed_dim,input_length = X1.shape[1]))\n",
    "model.add(LSTM(lstm_out))\n",
    "model.add(Dense(3,activation='softmax'))\n",
    "model.compile(loss = 'categorical_crossentropy', optimizer='adam',metrics = ['accuracy'])\n",
    "print(model.summary())"
   ]
  },
  {
   "cell_type": "code",
   "execution_count": 55,
   "metadata": {},
   "outputs": [
    {
     "name": "stdout",
     "output_type": "stream",
     "text": [
      "Train on 15749 samples, validate on 6751 samples\n",
      "WARNING:tensorflow:From E:\\anaconda3\\lib\\site-packages\\tensorflow\\python\\ops\\math_grad.py:1250: add_dispatch_support.<locals>.wrapper (from tensorflow.python.ops.array_ops) is deprecated and will be removed in a future version.\n",
      "Instructions for updating:\n",
      "Use tf.where in 2.0, which has the same broadcast rule as np.where\n",
      "Epoch 1/3\n",
      "15749/15749 - 966s - loss: 0.3827 - acc: 0.8628 - val_loss: 0.3180 - val_acc: 0.8902\n",
      "Epoch 2/3\n",
      "15749/15749 - 1014s - loss: 0.2115 - acc: 0.9304 - val_loss: 0.2815 - val_acc: 0.9120\n",
      "Epoch 3/3\n",
      "15749/15749 - 1181s - loss: 0.1472 - acc: 0.9533 - val_loss: 0.3551 - val_acc: 0.8950\n"
     ]
    }
   ],
   "source": [
    "batch_size = 10\n",
    "history = model.fit(X1_train, Y1_train, epochs = 3, batch_size=batch_size, validation_split=0.3 , verbose = 2)"
   ]
  },
  {
   "cell_type": "code",
   "execution_count": 57,
   "metadata": {},
   "outputs": [
    {
     "name": "stdout",
     "output_type": "stream",
     "text": [
      "[[ 0  0  0 ... 43 22 83]]\n",
      "1/1 - 1s\n",
      "[0.47517422 0.31389478 0.21093102]\n"
     ]
    }
   ],
   "source": [
    "twt = [\"The tablet is not good, does not work very well.\"]\n",
    "twt = tokenizer.texts_to_sequences(twt)\n",
    "twt = pad_sequences(twt, maxlen=1363, dtype='int32', value=0)\n",
    "print(twt)\n",
    "sentiment = model.predict(twt,batch_size=1,verbose = 2)[0]\n",
    "print(sentiment)"
   ]
  },
  {
   "cell_type": "code",
   "execution_count": 58,
   "metadata": {},
   "outputs": [
    {
     "name": "stdout",
     "output_type": "stream",
     "text": [
      "[[  0   0   0 ...  90 717   3]]\n",
      "1/1 - 0s\n",
      "[7.6908997e-04 7.8204740e-03 9.9141043e-01]\n"
     ]
    }
   ],
   "source": [
    "twt = [\"The tablet is good, really liked it.\"]\n",
    "twt = tokenizer.texts_to_sequences(twt)\n",
    "twt = pad_sequences(twt, maxlen=1363, dtype='int32', value=0)\n",
    "print(twt)\n",
    "sentiment = model.predict(twt,batch_size=1,verbose = 2)[0]\n",
    "print(sentiment)"
   ]
  },
  {
   "cell_type": "code",
   "execution_count": 59,
   "metadata": {},
   "outputs": [
    {
     "name": "stdout",
     "output_type": "stream",
     "text": [
      "[[  0   0   0 ...   3  30 127]]\n",
      "1/1 - 0s\n",
      "[0.01345935 0.1959277  0.790613  ]\n"
     ]
    }
   ],
   "source": [
    "twt = [\"The tablet is ok, but it works fine\"]\n",
    "twt = tokenizer.texts_to_sequences(twt)\n",
    "twt = pad_sequences(twt, maxlen=1363, dtype='int32', value=0)\n",
    "print(twt)\n",
    "sentiment = model.predict(twt,batch_size=1,verbose = 2)[0]\n",
    "print(sentiment)"
   ]
  },
  {
   "cell_type": "code",
   "execution_count": 60,
   "metadata": {},
   "outputs": [
    {
     "name": "stdout",
     "output_type": "stream",
     "text": [
      "[[0 0 1]\n",
      " [0 0 1]\n",
      " [1 0 0]\n",
      " ...\n",
      " [0 0 1]\n",
      " [1 0 0]\n",
      " [0 0 1]]\n",
      "4509     Positive\n",
      "28941    Positive\n",
      "8090     Negative\n",
      "28316    Positive\n",
      "2459     Positive\n",
      "           ...   \n",
      "3309     Positive\n",
      "39398    Negative\n",
      "26217    Positive\n",
      "22416    Negative\n",
      "6808     Positive\n",
      "Name: Rating, Length: 36000, dtype: object\n"
     ]
    }
   ],
   "source": [
    "Y1 = pd.get_dummies(X_train_targetSentiment).values\n",
    "print(Y1)\n",
    "print(X_train_targetSentiment)"
   ]
  },
  {
   "cell_type": "code",
   "execution_count": 63,
   "metadata": {},
   "outputs": [
    {
     "name": "stdout",
     "output_type": "stream",
     "text": [
      "[[95], [1908], [929], [], [95], [6], [1789], [3156], [929], [95], [], [2], [777], [], [853], [1183], [95], [], [896], [1183], [1183], [1082], [], [], [1082], [1183], [929], [777], [], [853], [1183], [95], [], [1394], [1183], [1960], [1515], [], [3018], [929], [1960], [825], [], [1394], [929], [3156], [3156], []]\n"
     ]
    },
    {
     "data": {
      "text/plain": [
       "array([[0.09877115, 0.0698147 , 0.83141416]], dtype=float32)"
      ]
     },
     "execution_count": 63,
     "metadata": {},
     "output_type": "execute_result"
    }
   ],
   "source": [
    "instance=\"The tablet is not good, does not work very well.\"\n",
    "instance = tokenizer.texts_to_sequences(instance)\n",
    "print(instance)\n",
    "flat_list = []\n",
    "for sublist in instance:\n",
    "    for item in sublist:\n",
    "        flat_list.append(item)\n",
    "\n",
    "flat_list = [flat_list]\n",
    "instance = pad_sequences(flat_list, padding='post', maxlen=1363)\n",
    "model.predict(instance)"
   ]
  },
  {
   "cell_type": "code",
   "execution_count": 64,
   "metadata": {},
   "outputs": [],
   "source": [
    "model.save(\"AmazonReview.h5\")"
   ]
  },
  {
   "cell_type": "code",
   "execution_count": null,
   "metadata": {},
   "outputs": [],
   "source": []
  },
  {
   "cell_type": "code",
   "execution_count": 65,
   "metadata": {},
   "outputs": [],
   "source": [
    "from sklearn.model_selection import train_test_split\n",
    "from sklearn.feature_extraction.text import CountVectorizer\n",
    "from tensorflow.keras.preprocessing.text import Tokenizer\n",
    "from tensorflow.keras.preprocessing.sequence import pad_sequences\n",
    "from tensorflow.keras.models import Sequential\n",
    "from tensorflow.keras.layers import Dense, Embedding, LSTM\n",
    "from sklearn.model_selection import train_test_split\n",
    "from tensorflow.keras.utils import to_categorical\n",
    "import re\n",
    "max_fatures = 50000\n",
    "tokenizer = Tokenizer(nb_words=max_fatures, split=' ')\n",
    "tokenizer.fit_on_texts(X_train.values)\n",
    "X1 = tokenizer.texts_to_sequences(X_train.values)\n",
    "X1 = pad_sequences(X1[:50000])\n",
    "\n",
    "Y1 = pd.get_dummies(X_train_targetSentiment[:50000]).values\n",
    "X_train_val, X_test, y_train_val, y_test = train_test_split(X1,Y1, test_size=0.3, random_state=42)"
   ]
  },
  {
   "cell_type": "code",
   "execution_count": 66,
   "metadata": {},
   "outputs": [
    {
     "data": {
      "text/plain": [
       "4509     Positive\n",
       "28941    Positive\n",
       "8090     Negative\n",
       "28316    Positive\n",
       "2459     Positive\n",
       "           ...   \n",
       "3309     Positive\n",
       "39398    Negative\n",
       "26217    Positive\n",
       "22416    Negative\n",
       "6808     Positive\n",
       "Name: Rating, Length: 36000, dtype: object"
      ]
     },
     "execution_count": 66,
     "metadata": {},
     "output_type": "execute_result"
    }
   ],
   "source": [
    "strat_train[\"Rating\"]"
   ]
  },
  {
   "cell_type": "code",
   "execution_count": 67,
   "metadata": {},
   "outputs": [
    {
     "name": "stdout",
     "output_type": "stream",
     "text": [
      "(9550, 6)\n"
     ]
    }
   ],
   "source": [
    "data_minority =strat_train[strat_train[\"Rating\"] == 'Negative']\n",
    "data_majority =strat_train[strat_train[\"Rating\"] == 'Positive']\n",
    "print(data_minority.shape)"
   ]
  },
  {
   "cell_type": "code",
   "execution_count": 68,
   "metadata": {},
   "outputs": [
    {
     "name": "stdout",
     "output_type": "stream",
     "text": [
      "9550\n",
      "24169\n",
      "Bias value 0.3951342628987546\n"
     ]
    }
   ],
   "source": [
    "print(data_minority.shape[0])\n",
    "print(data_majority.shape[0])\n",
    "bias = data_minority.shape[0]/data_majority.shape[0]\n",
    "print(\"Bias value\",bias)"
   ]
  },
  {
   "cell_type": "code",
   "execution_count": 69,
   "metadata": {},
   "outputs": [],
   "source": [
    "from sklearn.utils import shuffle\n",
    "data_majority = df[df['Rating'] <=3]\n",
    "data_minority = df[df['Rating'] >=4]\n",
    "\n",
    "bias = data_minority.shape[0]/data_majority.shape[0]\n",
    "# lets split train/test data first then \n",
    "train = pd.concat([data_majority.sample(frac=0.6,random_state=200),\n",
    "         data_minority.sample(frac=0.6,random_state=200)])\n",
    "test = pd.concat([data_majority.drop(data_majority.sample(frac=0.6,random_state=200).index),\n",
    "        data_minority.drop(data_minority.sample(frac=0.6,random_state=200).index)])\n",
    "\n",
    "train = shuffle(train)\n",
    "test = shuffle(test)"
   ]
  },
  {
   "cell_type": "code",
   "execution_count": 70,
   "metadata": {},
   "outputs": [
    {
     "name": "stdout",
     "output_type": "stream",
     "text": [
      "positive data in training: 18127\n",
      "negative data in training: 8873\n",
      "positive data in test: 12084\n",
      "negative data in test: 5916\n"
     ]
    }
   ],
   "source": [
    "print('positive data in training:',(train['Rating'] >=4).sum())\n",
    "print('negative data in training:',(train['Rating'] <=3).sum())\n",
    "print('positive data in test:',(test['Rating'] >=4).sum())\n",
    "print('negative data in test:',(test['Rating'] <=3).sum())"
   ]
  },
  {
   "cell_type": "code",
   "execution_count": 71,
   "metadata": {},
   "outputs": [
    {
     "name": "stdout",
     "output_type": "stream",
     "text": [
      "[5 4 1 2 3]\n",
      "majority class before upsample: (18127, 6)\n",
      "minority class before upsample: (8873, 6)\n",
      "After upsampling\n",
      "5    14833\n",
      "1    11508\n",
      "3     3459\n",
      "4     3294\n",
      "2     3160\n",
      "Name: Rating, dtype: int64\n"
     ]
    }
   ],
   "source": [
    "print(df['Rating'].unique())\n",
    "data_majority = train[train['Rating'] >=4]\n",
    "data_minority = train[train['Rating'] <=3]\n",
    "\n",
    "print(\"majority class before upsample:\",data_majority.shape)\n",
    "print(\"minority class before upsample:\",data_minority.shape)\n",
    "from sklearn.utils import resample\n",
    "# Upsample minority class\n",
    "data_minority_upsampled = resample(data_minority, \n",
    "                                 replace=True,     \n",
    "                                 n_samples= data_majority.shape[0],    \n",
    "                                 random_state=42)\n",
    "data_upsampled = pd.concat([data_majority, data_minority_upsampled])\n",
    "print(\"After upsampling\\n\",data_upsampled['Rating'].value_counts(),sep = \"\")"
   ]
  },
  {
   "cell_type": "code",
   "execution_count": 72,
   "metadata": {},
   "outputs": [
    {
     "name": "stdout",
     "output_type": "stream",
     "text": [
      "x_train shape: (36254, 29)\n",
      "x_test shape (18000, 29)\n"
     ]
    }
   ],
   "source": [
    "max_fatures = 2000\n",
    "tokenizer = Tokenizer(num_words=max_fatures, split=' ')\n",
    "tokenizer.fit_on_texts(df['Reviews'].astype(str).values) # training with whole data\n",
    "\n",
    "X_train = tokenizer.texts_to_sequences(data_upsampled['Reviews'].astype(str).values)\n",
    "X_train = pad_sequences(X_train,maxlen=29)\n",
    "Y_train = pd.get_dummies(data_upsampled['Rating']).values\n",
    "print('x_train shape:',X_train.shape)\n",
    "\n",
    "X_test = tokenizer.texts_to_sequences(test['Reviews'].astype(str).values)\n",
    "X_test = pad_sequences(X_test,maxlen=29)\n",
    "Y_test = pd.get_dummies(test['Rating']).values\n",
    "print(\"x_test shape\", X_test.shape)"
   ]
  },
  {
   "cell_type": "code",
   "execution_count": 73,
   "metadata": {},
   "outputs": [
    {
     "name": "stderr",
     "output_type": "stream",
     "text": [
      "Using TensorFlow backend.\n"
     ]
    },
    {
     "name": "stdout",
     "output_type": "stream",
     "text": [
      "Model: \"sequential_1\"\n",
      "_________________________________________________________________\n",
      "Layer (type)                 Output Shape              Param #   \n",
      "=================================================================\n",
      "embedding_1 (Embedding)      (None, 29, 128)           256000    \n",
      "_________________________________________________________________\n",
      "spatial_dropout1d_1 (Spatial (None, 29, 128)           0         \n",
      "_________________________________________________________________\n",
      "lstm_1 (LSTM)                (None, 192)               246528    \n",
      "_________________________________________________________________\n",
      "dense_1 (Dense)              (None, 5)                 965       \n",
      "=================================================================\n",
      "Total params: 503,493\n",
      "Trainable params: 503,493\n",
      "Non-trainable params: 0\n",
      "_________________________________________________________________\n",
      "None\n"
     ]
    }
   ],
   "source": [
    "from tensorflow.keras.layers import Flatten\n",
    "from tensorflow import keras\n",
    "from tensorflow.keras.layers import Embedding\n",
    "from keras.layers import Dense, Activation, Flatten\n",
    "from keras.layers import Input\n",
    "from keras.layers import Conv1D,Convolution1D\n",
    "from keras.layers.convolutional import Conv2D, MaxPooling2D\n",
    "from keras.models import Sequential\n",
    "from keras.layers import Dense, Activation, Flatten\n",
    "from keras.optimizers import Adam\n",
    "from keras.layers import Dense, Embedding, LSTM, SpatialDropout1D\n",
    "from keras.layers import SpatialDropout1D\n",
    "embed_dim = 128\n",
    "lstm_out = 192\n",
    "model = Sequential()\n",
    "model.add(Embedding(max_fatures, embed_dim,input_length = X_train.shape[1]))\n",
    "model.add(SpatialDropout1D(0.4))\n",
    "model.add(LSTM(lstm_out, dropout=0.4, recurrent_dropout=0.4))\n",
    "#model.add(tensorflow.keras.layers.Bidirectional(tensorflow.keras.layers.LSTM(32)),\n",
    "model.add(Dense(5,activation='softmax'))\n",
    "model.compile(loss = 'categorical_crossentropy', optimizer='adam',metrics = ['accuracy'])\n",
    "print(model.summary())"
   ]
  },
  {
   "cell_type": "code",
   "execution_count": 75,
   "metadata": {
    "scrolled": true
   },
   "outputs": [
    {
     "name": "stdout",
     "output_type": "stream",
     "text": [
      "WARNING:tensorflow:From E:\\anaconda3\\lib\\site-packages\\keras\\backend\\tensorflow_backend.py:422: The name tf.global_variables is deprecated. Please use tf.compat.v1.global_variables instead.\n",
      "\n"
     ]
    },
    {
     "name": "stderr",
     "output_type": "stream",
     "text": [
      "WARNING:tensorflow:From E:\\anaconda3\\lib\\site-packages\\keras\\backend\\tensorflow_backend.py:422: The name tf.global_variables is deprecated. Please use tf.compat.v1.global_variables instead.\n",
      "\n"
     ]
    },
    {
     "name": "stdout",
     "output_type": "stream",
     "text": [
      "Epoch 1/10\n",
      "36254/36254 [==============================] - 39s 1ms/step - loss: 0.6280 - accuracy: 0.6218\n",
      "Epoch 2/10\n",
      "36254/36254 [==============================] - 36s 994us/step - loss: 0.4720 - accuracy: 0.7207\n",
      "Epoch 3/10\n",
      "36254/36254 [==============================] - 35s 967us/step - loss: 0.4193 - accuracy: 0.7545\n",
      "Epoch 4/10\n",
      "36254/36254 [==============================] - 37s 1ms/step - loss: 0.3827 - accuracy: 0.7769\n",
      "Epoch 5/10\n",
      "36254/36254 [==============================] - 37s 1ms/step - loss: 0.3532 - accuracy: 0.7937\n",
      "Epoch 6/10\n",
      "36254/36254 [==============================] - 37s 1ms/step - loss: 0.3339 - accuracy: 0.8099\n",
      "Epoch 7/10\n",
      "36254/36254 [==============================] - 34s 943us/step - loss: 0.3145 - accuracy: 0.8197\n",
      "Epoch 8/10\n",
      "36254/36254 [==============================] - 34s 946us/step - loss: 0.3004 - accuracy: 0.8290\n",
      "Epoch 9/10\n",
      "36254/36254 [==============================] - 34s 941us/step - loss: 0.2882 - accuracy: 0.8347\n",
      "Epoch 10/10\n",
      "36254/36254 [==============================] - 36s 987us/step - loss: 0.2754 - accuracy: 0.8448\n"
     ]
    }
   ],
   "source": [
    "batch_size = 128\n",
    "# also adding weights\n",
    "class_weights = {0:1/bias ,\n",
    "                1: 1.6/bias,\n",
    "                2:1/bias,\n",
    "                3:1/bias,\n",
    "                4:1}\n",
    "history=model.fit(X_train, Y_train, epochs = 10, batch_size=batch_size, verbose = 1,\n",
    "          class_weight=class_weights)"
   ]
  },
  {
   "cell_type": "code",
   "execution_count": 76,
   "metadata": {
    "scrolled": true
   },
   "outputs": [
    {
     "name": "stdout",
     "output_type": "stream",
     "text": [
      "confusion matrix [[3238  202  108   17  223]\n",
      " [ 227  624   54   10   67]\n",
      " [ 158   93  573   39  283]\n",
      " [  86   95  176  492 1378]\n",
      " [  95   39   55   70 9598]]\n",
      "              precision    recall  f1-score   support\n",
      "\n",
      "           0       0.85      0.85      0.85      3788\n",
      "           1       0.59      0.64      0.61       982\n",
      "           2       0.59      0.50      0.54      1146\n",
      "           3       0.78      0.22      0.34      2227\n",
      "           4       0.83      0.97      0.90      9857\n",
      "\n",
      "    accuracy                           0.81     18000\n",
      "   macro avg       0.73      0.64      0.65     18000\n",
      "weighted avg       0.80      0.81      0.78     18000\n",
      "\n"
     ]
    }
   ],
   "source": [
    "from sklearn.metrics import confusion_matrix,classification_report\n",
    "Y_pred = model.predict_classes(X_test,batch_size = batch_size)\n",
    "df_test = pd.DataFrame({'true': Y_test.tolist(), 'pred':Y_pred})\n",
    "df_test['true'] = df_test['true'].apply(lambda x: np.argmax(x))\n",
    "print(\"confusion matrix\",confusion_matrix(df_test.true, df_test.pred))\n",
    "print(classification_report(df_test.true, df_test.pred))"
   ]
  },
  {
   "cell_type": "code",
   "execution_count": 77,
   "metadata": {},
   "outputs": [],
   "source": [
    "model.save('Cip_Amazon.h5')"
   ]
  },
  {
   "cell_type": "code",
   "execution_count": null,
   "metadata": {},
   "outputs": [],
   "source": [
    "twt = ['Good product']\n",
    "#vectorizing the tweet by the pre-fitted tokenizer instance\n",
    "twt = tokenizer.texts_to_sequences(twt)\n",
    "#padding the tweet to have exactly the same shape as `embedding_2` input\n",
    "twt = pad_sequences(twt, maxlen=29, dtype='int32', value=0)\n",
    "print(twt)\n",
    "sentiment = model.predict(twt,batch_size=1,verbose = 2)[0]\n",
    "print(sentiment)"
   ]
  },
  {
   "cell_type": "code",
   "execution_count": null,
   "metadata": {},
   "outputs": [],
   "source": [
    "i = np.argmax(sentiment)\n",
    "print(np.argmax(sentiment))\n",
    "if i<=1:\n",
    "    print(\"negative\")\n",
    "if i==2:\n",
    "    print(\"Neural\")\n",
    "if(i>=3):\n",
    "    print(\"Positive\")"
   ]
  },
  {
   "cell_type": "code",
   "execution_count": null,
   "metadata": {},
   "outputs": [],
   "source": [
    "twt = ['Product is good but package damaged']\n",
    "#vectorizing the tweet by the pre-fitted tokenizer instance\n",
    "twt = tokenizer.texts_to_sequences(twt)\n",
    "#padding the tweet to have exactly the same shape as `embedding_2` input\n",
    "twt = pad_sequences(twt, maxlen=29, dtype='int32', value=0)\n",
    "print(twt)\n",
    "sentiment = model.predict(twt,batch_size=1,verbose = 2)[0]\n",
    "print(sentiment)"
   ]
  },
  {
   "cell_type": "code",
   "execution_count": null,
   "metadata": {},
   "outputs": [],
   "source": [
    "i = np.argmax(sentiment)\n",
    "print(np.argmax(sentiment))\n",
    "if i<=1:\n",
    "    print(\"negative\")\n",
    "if i==2:\n",
    "    print(\"Neural\")\n",
    "if(i>=3):\n",
    "    print(\"Positive\")"
   ]
  },
  {
   "cell_type": "code",
   "execution_count": 135,
   "metadata": {},
   "outputs": [
    {
     "data": {
      "image/png": "[encoded data removed]",
      "text/plain": [
       "<Figure size 288x216 with 1 Axes>"
      ]
     },
     "metadata": {
      "needs_background": "light"
     },
     "output_type": "display_data"
    },
    {
     "data": {
      "image/png": "[encoded data removed]",
      "text/plain": [
       "<Figure size 288x216 with 1 Axes>"
      ]
     },
     "metadata": {
      "needs_background": "light"
     },
     "output_type": "display_data"
    }
   ],
   "source": [
    "def plot_graph(history,string):\n",
    "    plt.figure(figsize=(4,3)) \n",
    "    plt.plot(history.history[string],label=str(string))\n",
    "    \n",
    "    plt.xlabel(\"Epochs\")\n",
    "    plt.ylabel(str(string))\n",
    "    plt.legend()\n",
    "    plt.show()\n",
    "plot_graph(history,'accuracy')\n",
    "plot_graph(history,'loss')"
   ]
  },
  {
   "cell_type": "code",
   "execution_count": null,
   "metadata": {},
   "outputs": [],
   "source": []
  },
  {
   "cell_type": "code",
   "execution_count": null,
   "metadata": {},
   "outputs": [],
   "source": []
  },
  {
   "cell_type": "code",
   "execution_count": 136,
   "metadata": {},
   "outputs": [],
   "source": []
  },
  {
   "cell_type": "code",
   "execution_count": 78,
   "metadata": {},
   "outputs": [
    {
     "name": "stdout",
     "output_type": "stream",
     "text": [
      "Model: \"sequential_2\"\n",
      "_________________________________________________________________\n",
      "Layer (type)                 Output Shape              Param #   \n",
      "=================================================================\n",
      "embedding_2 (Embedding)      (None, 29, 128)           256000    \n",
      "_________________________________________________________________\n",
      "spatial_dropout1d_2 (Spatial (None, 29, 128)           0         \n",
      "_________________________________________________________________\n",
      "lstm_2 (LSTM)                (None, 192)               246528    \n",
      "_________________________________________________________________\n",
      "dense_2 (Dense)              (None, 5)                 965       \n",
      "=================================================================\n",
      "Total params: 503,493\n",
      "Trainable params: 503,493\n",
      "Non-trainable params: 0\n",
      "_________________________________________________________________\n",
      "None\n"
     ]
    }
   ],
   "source": [
    "from tensorflow.keras.layers import Flatten\n",
    "from tensorflow import keras\n",
    "from tensorflow.keras.layers import Embedding\n",
    "from keras.layers import Dense, Activation, Flatten\n",
    "from keras.layers import Input\n",
    "from keras.layers import Conv1D,Convolution1D\n",
    "from keras.layers.convolutional import Conv2D, MaxPooling2D\n",
    "from keras.models import Sequential\n",
    "from keras.layers import Dense, Activation, Flatten\n",
    "from keras.optimizers import Adam\n",
    "from keras.layers import Dense, Embedding, LSTM, SpatialDropout1D\n",
    "from keras.layers import SpatialDropout1D\n",
    "embed_dim = 128\n",
    "lstm_out = 192\n",
    "model = Sequential()\n",
    "model.add(Embedding(max_fatures, embed_dim,input_length = X_train.shape[1]))\n",
    "model.add(SpatialDropout1D(0.4))\n",
    "model.add(LSTM(lstm_out, dropout=0.4, recurrent_dropout=0.4))\n",
    "#model.add(tensorflow.keras.layers.Bidirectional(tensorflow.keras.layers.LSTM(32)),\n",
    "model.add(Dense(5,activation='softmax'))\n",
    "model.compile(loss = 'categorical_crossentropy', optimizer='adam',metrics = ['accuracy'])\n",
    "print(model.summary())"
   ]
  },
  {
   "cell_type": "code",
   "execution_count": 79,
   "metadata": {},
   "outputs": [
    {
     "name": "stdout",
     "output_type": "stream",
     "text": [
      "WARNING:tensorflow:From E:\\anaconda3\\lib\\site-packages\\tensorflow\\python\\ops\\init_ops.py:97: calling GlorotUniform.__init__ (from tensorflow.python.ops.init_ops) with dtype is deprecated and will be removed in a future version.\n",
      "Instructions for updating:\n",
      "Call initializer instance with the dtype argument instead of passing it to the constructor\n"
     ]
    },
    {
     "name": "stderr",
     "output_type": "stream",
     "text": [
      "WARNING:tensorflow:From E:\\anaconda3\\lib\\site-packages\\tensorflow\\python\\ops\\init_ops.py:97: calling GlorotUniform.__init__ (from tensorflow.python.ops.init_ops) with dtype is deprecated and will be removed in a future version.\n",
      "Instructions for updating:\n",
      "Call initializer instance with the dtype argument instead of passing it to the constructor\n"
     ]
    },
    {
     "name": "stdout",
     "output_type": "stream",
     "text": [
      "WARNING:tensorflow:From E:\\anaconda3\\lib\\site-packages\\tensorflow\\python\\ops\\init_ops.py:97: calling Orthogonal.__init__ (from tensorflow.python.ops.init_ops) with dtype is deprecated and will be removed in a future version.\n",
      "Instructions for updating:\n",
      "Call initializer instance with the dtype argument instead of passing it to the constructor\n"
     ]
    },
    {
     "name": "stderr",
     "output_type": "stream",
     "text": [
      "WARNING:tensorflow:From E:\\anaconda3\\lib\\site-packages\\tensorflow\\python\\ops\\init_ops.py:97: calling Orthogonal.__init__ (from tensorflow.python.ops.init_ops) with dtype is deprecated and will be removed in a future version.\n",
      "Instructions for updating:\n",
      "Call initializer instance with the dtype argument instead of passing it to the constructor\n"
     ]
    },
    {
     "name": "stdout",
     "output_type": "stream",
     "text": [
      "WARNING:tensorflow:From E:\\anaconda3\\lib\\site-packages\\tensorflow\\python\\ops\\init_ops.py:97: calling Zeros.__init__ (from tensorflow.python.ops.init_ops) with dtype is deprecated and will be removed in a future version.\n",
      "Instructions for updating:\n",
      "Call initializer instance with the dtype argument instead of passing it to the constructor\n"
     ]
    },
    {
     "name": "stderr",
     "output_type": "stream",
     "text": [
      "WARNING:tensorflow:From E:\\anaconda3\\lib\\site-packages\\tensorflow\\python\\ops\\init_ops.py:97: calling Zeros.__init__ (from tensorflow.python.ops.init_ops) with dtype is deprecated and will be removed in a future version.\n",
      "Instructions for updating:\n",
      "Call initializer instance with the dtype argument instead of passing it to the constructor\n"
     ]
    },
    {
     "name": "stdout",
     "output_type": "stream",
     "text": [
      "Model: \"sequential_1\"\n",
      "_________________________________________________________________\n",
      "Layer (type)                 Output Shape              Param #   \n",
      "=================================================================\n",
      "embedding_1 (Embedding)      (None, 29, 128)           256000    \n",
      "_________________________________________________________________\n",
      "bidirectional (Bidirectional (None, 64)                41216     \n",
      "_________________________________________________________________\n",
      "dense_1 (Dense)              (None, 128)               8320      \n",
      "_________________________________________________________________\n",
      "dense_2 (Dense)              (None, 5)                 645       \n",
      "=================================================================\n",
      "Total params: 306,181\n",
      "Trainable params: 306,181\n",
      "Non-trainable params: 0\n",
      "_________________________________________________________________\n"
     ]
    }
   ],
   "source": [
    "import tensorflow as tf\n",
    "model_lstm = tf.keras.Sequential([tf.keras.layers.Embedding(max_fatures,embed_dim,input_length = X_train.shape[1]),\n",
    "tf.keras.layers.Bidirectional(tf.keras.layers.LSTM(32)),    \n",
    "tf.keras.layers.Dense(128, activation = 'relu'),\n",
    "tf.keras.layers.Dense(5, activation = 'sigmoid')\n",
    "])\n",
    "\n",
    "model_lstm.compile('adam', 'categorical_crossentropy', metrics = ['accuracy'])\n",
    "model_lstm.summary()"
   ]
  },
  {
   "cell_type": "code",
   "execution_count": 80,
   "metadata": {},
   "outputs": [
    {
     "name": "stdout",
     "output_type": "stream",
     "text": [
      "Epoch 1/10\n",
      "36254/36254 - 30s - loss: 0.5105 - acc: 0.6984\n",
      "Epoch 2/10\n",
      "36254/36254 - 26s - loss: 0.3552 - acc: 0.7940\n",
      "Epoch 3/10\n",
      "36254/36254 - 27s - loss: 0.2705 - acc: 0.8486\n",
      "Epoch 4/10\n",
      "36254/36254 - 27s - loss: 0.2135 - acc: 0.8819\n",
      "Epoch 5/10\n",
      "36254/36254 - 29s - loss: 0.1726 - acc: 0.9066\n",
      "Epoch 6/10\n",
      "36254/36254 - 27s - loss: 0.1444 - acc: 0.9222\n",
      "Epoch 7/10\n",
      "36254/36254 - 28s - loss: 0.1227 - acc: 0.9331\n",
      "Epoch 8/10\n",
      "36254/36254 - 31s - loss: 0.1117 - acc: 0.9396\n",
      "Epoch 9/10\n",
      "36254/36254 - 28s - loss: 0.0958 - acc: 0.9479\n",
      "Epoch 10/10\n",
      "36254/36254 - 28s - loss: 0.0862 - acc: 0.9534\n"
     ]
    }
   ],
   "source": [
    "#Bi-Directional LSTM\n",
    "history_lstm = model_lstm.fit(X_train, Y_train, batch_size = 32, epochs =10, verbose = 2,class_weight=class_weights)"
   ]
  },
  {
   "cell_type": "code",
   "execution_count": 81,
   "metadata": {},
   "outputs": [
    {
     "name": "stdout",
     "output_type": "stream",
     "text": [
      "Train on 36254 samples, validate on 18000 samples\n",
      "Epoch 1/10\n",
      "36254/36254 - 34s - loss: 0.1501 - acc: 0.9507 - val_loss: 0.7844 - val_acc: 0.8583\n",
      "Epoch 2/10\n",
      "36254/36254 - 36s - loss: 0.1178 - acc: 0.9612 - val_loss: 0.8511 - val_acc: 0.8580\n",
      "Epoch 3/10\n",
      "36254/36254 - 35s - loss: 0.1086 - acc: 0.9637 - val_loss: 0.8995 - val_acc: 0.8573\n",
      "Epoch 4/10\n",
      "36254/36254 - 33s - loss: 0.1040 - acc: 0.9646 - val_loss: 0.9220 - val_acc: 0.8605\n",
      "Epoch 5/10\n",
      "36254/36254 - 33s - loss: 0.0953 - acc: 0.9676 - val_loss: 0.9429 - val_acc: 0.8651\n",
      "Epoch 6/10\n",
      "36254/36254 - 31s - loss: 0.0935 - acc: 0.9681 - val_loss: 0.9762 - val_acc: 0.8617\n",
      "Epoch 7/10\n",
      "36254/36254 - 35s - loss: 0.0872 - acc: 0.9698 - val_loss: 0.9757 - val_acc: 0.8678\n",
      "Epoch 8/10\n",
      "36254/36254 - 33s - loss: 0.0796 - acc: 0.9719 - val_loss: nan - val_acc: 0.8596\n",
      "Epoch 9/10\n",
      "36254/36254 - 30s - loss: 0.0850 - acc: 0.9707 - val_loss: 1.0170 - val_acc: 0.8653\n",
      "Epoch 10/10\n",
      "36254/36254 - 30s - loss: 0.0753 - acc: 0.9730 - val_loss: 1.0863 - val_acc: 0.8596\n"
     ]
    }
   ],
   "source": [
    "#Only LSTM\n",
    "history_lstm_1 = model_lstm.fit(X_train, Y_train, batch_size = 32, epochs =10,validation_data=(X_test, Y_test), verbose = 2)"
   ]
  },
  {
   "cell_type": "code",
   "execution_count": 85,
   "metadata": {},
   "outputs": [
    {
     "data": {
      "image/png": "[encoded data removed]",
      "text/plain": [
       "<Figure size 288x216 with 1 Axes>"
      ]
     },
     "metadata": {
      "needs_background": "light"
     },
     "output_type": "display_data"
    },
    {
     "data": {
      "image/png": "[encoded data removed]",
      "text/plain": [
       "<Figure size 288x216 with 1 Axes>"
      ]
     },
     "metadata": {
      "needs_background": "light"
     },
     "output_type": "display_data"
    }
   ],
   "source": [
    "def plot_graph(history,string):\n",
    "    plt.figure(figsize=(4,3)) \n",
    "    plt.plot(history.history[string],label=str(string))\n",
    "    \n",
    "    plt.xlabel(\"Epochs\")\n",
    "    plt.ylabel(str(string))\n",
    "    plt.legend()\n",
    "    plt.show()\n",
    "plot_graph(history_lstm,'acc')\n",
    "plot_graph(history_lstm,'loss')"
   ]
  },
  {
   "cell_type": "code",
   "execution_count": 149,
   "metadata": {},
   "outputs": [
    {
     "name": "stdout",
     "output_type": "stream",
     "text": [
      "[[  0   0   0   0   0   0   0   0   0   0   0   0   0   0   0   0   0   0\n",
      "    0   0   0   0   0   0   0   0   0 478 681]]\n",
      "1/1 - 0s\n",
      "[1.5124229e-01 4.5597553e-06 2.8750300e-04 3.6045909e-04 5.5281399e-03]\n"
     ]
    }
   ],
   "source": [
    "twt = ['package damaged']\n",
    "#vectorizing the tweet by the pre-fitted tokenizer instance\n",
    "twt = tokenizer.texts_to_sequences(twt)\n",
    "#padding the tweet to have exactly the same shape as `embedding_2` input\n",
    "twt = pad_sequences(twt, maxlen=29, dtype='int32', value=0)\n",
    "print(twt)\n",
    "sentiment = model_lstm.predict(twt,batch_size=1,verbose = 2)[0]\n",
    "print(sentiment)"
   ]
  },
  {
   "cell_type": "code",
   "execution_count": 143,
   "metadata": {},
   "outputs": [],
   "source": [
    "model.save('Cip_Amazon.h5')\n",
    "model_lstm.save('Amazon_Final.h5')"
   ]
  },
  {
   "cell_type": "code",
   "execution_count": 177,
   "metadata": {},
   "outputs": [
    {
     "name": "stdout",
     "output_type": "stream",
     "text": [
      "[[ 0  0  0  0  0  0  0  0  0  0  0  0  0  0  0  0  0  0  0  0  0  0  0  0\n",
      "   0  0 47  9 23]]\n",
      "1/1 - 0s\n",
      "[8.9704990e-06 1.7866492e-04 3.0648708e-04 1.3515654e-01 9.2089260e-01]\n"
     ]
    }
   ],
   "source": [
    "twt = ['Product is good']\n",
    "#vectorizing the tweet by the pre-fitted tokenizer instance\n",
    "twt = tokenizer.texts_to_sequences(twt)\n",
    "#padding the tweet to have exactly the same shape as `embedding_2` input\n",
    "twt = pad_sequences(twt, maxlen=29, dtype='int32', value=0)\n",
    "print(twt)\n",
    "sentiment = model_lstm.predict(twt,batch_size=1,verbose = 2)[0]\n",
    "print(sentiment)"
   ]
  },
  {
   "cell_type": "code",
   "execution_count": 178,
   "metadata": {},
   "outputs": [
    {
     "name": "stdout",
     "output_type": "stream",
     "text": [
      "4\n",
      "Positive\n"
     ]
    }
   ],
   "source": [
    "i = np.argmax(sentiment)\n",
    "print(np.argmax(sentiment))\n",
    "if i<=1:\n",
    "    print(\"negative\")\n",
    "if i==2:\n",
    "    print(\"Neural\")\n",
    "if(i>=3):\n",
    "    print(\"Positive\")"
   ]
  },
  {
   "cell_type": "code",
   "execution_count": null,
   "metadata": {},
   "outputs": [],
   "source": [
    "i"
   ]
  },
  {
   "cell_type": "code",
   "execution_count": null,
   "metadata": {},
   "outputs": [],
   "source": []
  }
 ],
 "metadata": {
  "kernelspec": {
   "display_name": "Python 3",
   "language": "python",
   "name": "python3"
  },
  "language_info": {
   "codemirror_mode": {
    "name": "ipython",
    "version": 3
   },
   "file_extension": ".py",
   "mimetype": "text/x-python",
   "name": "python",
   "nbconvert_exporter": "python",
   "pygments_lexer": "ipython3",
   "version": "3.7.6"
  }
 },
 "nbformat": 4,
 "nbformat_minor": 4
}
